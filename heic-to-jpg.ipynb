{
 "cells": [
  {
   "cell_type": "code",
   "execution_count": 1,
   "metadata": {},
   "outputs": [],
   "source": [
    "from wand.image import Image\n",
    "\n",
    "def heic_to_jpg(heic_path, jpg_path):\n",
    "    with Image(filename=heic_path) as img:\n",
    "        img.format = 'jpeg'\n",
    "        img.save(filename=jpg_path)\n",
    "\n",
    "# Usage\n",
    "heic_to_jpg(\"20210131_131414.heic\", \"output.jpg\")"
   ]
  },
  {
   "cell_type": "code",
   "execution_count": 2,
   "metadata": {},
   "outputs": [],
   "source": [
    "import os\n",
    "import glob\n",
    "from wand.image import Image\n",
    "\n",
    "def heic_to_jpg(heic_path, jpg_path):\n",
    "    with Image(filename=heic_path) as img:\n",
    "        img.format = 'jpeg'\n",
    "        img.save(filename=jpg_path)\n",
    "\n",
    "def convert_all_heic_to_jpg():\n",
    "    output_dir = \"output-jpegs\"\n",
    "    if not os.path.exists(output_dir):\n",
    "        os.makedirs(output_dir)\n",
    "\n",
    "    heic_files = glob.glob(\"*.heic\")\n",
    "\n",
    "    for heic_file in heic_files:\n",
    "        jpg_file = os.path.join(output_dir, os.path.splitext(heic_file)[0] + \".jpg\")\n",
    "        heic_to_jpg(heic_file, jpg_file)\n",
    "\n",
    "# Usage\n",
    "convert_all_heic_to_jpg()"
   ]
  },
  {
   "cell_type": "code",
   "execution_count": null,
   "metadata": {},
   "outputs": [],
   "source": []
  },
  {
   "cell_type": "code",
   "execution_count": null,
   "metadata": {},
   "outputs": [],
   "source": []
  }
 ],
 "metadata": {
  "kernelspec": {
   "display_name": "Python 3",
   "language": "python",
   "name": "python3"
  },
  "language_info": {
   "codemirror_mode": {
    "name": "ipython",
    "version": 3
   },
   "file_extension": ".py",
   "mimetype": "text/x-python",
   "name": "python",
   "nbconvert_exporter": "python",
   "pygments_lexer": "ipython3",
   "version": "3.11.3"
  }
 },
 "nbformat": 4,
 "nbformat_minor": 2
}
