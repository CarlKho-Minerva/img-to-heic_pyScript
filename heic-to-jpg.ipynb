{
 "cells": [
  {
   "cell_type": "code",
   "execution_count": 1,
   "metadata": {},
   "outputs": [],
   "source": [
    "from wand.image import Image\n",
    "\n",
    "def heic_to_jpg(heic_path, jpg_path):\n",
    "    with Image(filename=heic_path) as img:\n",
    "        img.format = 'jpeg'\n",
    "        img.save(filename=jpg_path)\n",
    "\n",
    "# Usage\n",
    "heic_to_jpg(\"20210131_131414.heic\", \"output.jpg\")"
   ]
  },
  {
   "cell_type": "code",
   "execution_count": 2,
   "metadata": {},
   "outputs": [],
   "source": [
    "import os\n",
    "import glob\n",
    "from wand.image import Image\n",
    "\n",
    "def heic_to_jpg(heic_path, jpg_path):\n",
    "    with Image(filename=heic_path) as img:\n",
    "        img.format = 'jpeg'\n",
    "        img.save(filename=jpg_path)\n",
    "\n",
    "def convert_all_heic_to_jpg():\n",
    "    output_dir = \"output-jpegs\"\n",
    "    if not os.path.exists(output_dir):\n",
    "        os.makedirs(output_dir)\n",
    "\n",
    "    heic_files = glob.glob(\"*.heic\")\n",
    "\n",
    "    for heic_file in heic_files:\n",
    "        jpg_file = os.path.join(output_dir, os.path.splitext(heic_file)[0] + \".jpg\")\n",
    "        heic_to_jpg(heic_file, jpg_file)\n",
    "\n",
    "# Usage\n",
    "convert_all_heic_to_jpg()"
   ]
  },
  {
   "cell_type": "code",
   "execution_count": 11,
   "metadata": {},
   "outputs": [],
   "source": [
    "from PIL import Image, UnidentifiedImageError\n",
    "import os\n",
    "\n",
    "def optimize_jpgs(input_directory, output_directory):\n",
    "    if not os.path.exists(output_directory):\n",
    "        os.makedirs(output_directory)\n",
    "\n",
    "    for filename in os.listdir(input_directory):\n",
    "        if filename.endswith(\".jpg\") or filename.endswith(\".jpeg\"):\n",
    "            input_filepath = os.path.join(input_directory, filename)\n",
    "            output_filepath = os.path.join(output_directory, filename)\n",
    "            try:\n",
    "                image = Image.open(input_filepath)\n",
    "                image.save(output_filepath, optimize=True, quality=50)\n",
    "            except UnidentifiedImageError:\n",
    "                print(f\"Skipped file due to UnidentifiedImageError: {input_filepath}\")"
   ]
  },
  {
   "cell_type": "code",
   "execution_count": 12,
   "metadata": {},
   "outputs": [
    {
     "name": "stdout",
     "output_type": "stream",
     "text": [
      "Skipped file due to UnidentifiedImageError: E:\\MyPhotos\\ForArchive\\HEIC Files\\output-jpegs\\20210217_133519.jpg\n"
     ]
    }
   ],
   "source": [
    "optimize_jpgs(r'E:\\MyPhotos\\ForArchive\\HEIC Files\\output-jpegs', r'E:\\MyPhotos\\ForArchive\\HEIC Files\\optimized-jpegs')"
   ]
  },
  {
   "cell_type": "code",
   "execution_count": null,
   "metadata": {},
   "outputs": [],
   "source": []
  }
 ],
 "metadata": {
  "kernelspec": {
   "display_name": "Python 3",
   "language": "python",
   "name": "python3"
  },
  "language_info": {
   "codemirror_mode": {
    "name": "ipython",
    "version": 3
   },
   "file_extension": ".py",
   "mimetype": "text/x-python",
   "name": "python",
   "nbconvert_exporter": "python",
   "pygments_lexer": "ipython3",
   "version": "3.11.3"
  }
 },
 "nbformat": 4,
 "nbformat_minor": 2
}
