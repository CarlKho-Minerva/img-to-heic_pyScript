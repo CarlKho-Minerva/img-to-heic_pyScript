{
 "cells": [
  {
   "cell_type": "markdown",
   "metadata": {},
   "source": [
    "### TL;DR - How to Use"
   ]
  },
  {
   "cell_type": "code",
   "execution_count": null,
   "metadata": {
    "vscode": {
     "languageId": "markdown"
    }
   },
   "outputs": [],
   "source": [
    "# Quick Guide to Image Conversion and Optimization\n",
    "\n",
    "This notebook contains functions to convert HEIC images to JPEG format and optimize JPEG images. Here's a quick guide on how to use them:\n",
    "\n",
    "1. **Convert HEIC to JPEG**: Use the `convert_all_heic_to_jpg` function to convert all HEIC images in the current directory to JPEG format. The converted images will be saved in a directory named \"output-jpegs\".\n",
    "\n",
    "```python\n",
    "convert_all_heic_to_jpg()"
   ]
  },
  {
   "cell_type": "markdown",
   "metadata": {},
   "source": [
    "\n",
    "\n",
    "2. **Optimize JPEG Images**: Use the `optimize_jpgs` function to optimize all JPEG images in a specified directory. You need to provide the path to the input directory and the path to the output directory.\n",
    "\n"
   ]
  },
  {
   "cell_type": "code",
   "execution_count": null,
   "metadata": {},
   "outputs": [],
   "source": [
    "optimize_jpgs('path/to/input/directory', 'path/to/output/directory')"
   ]
  },
  {
   "cell_type": "markdown",
   "metadata": {},
   "source": [
    "\n",
    "\n",
    "Replace `'path/to/input/directory'` with the path to the directory that contains the JPEG images you want to optimize, and replace `'path/to/output/directory'` with the path to the directory where you want to save the optimized images.\n",
    "\n",
    "For example:\n",
    "\n"
   ]
  },
  {
   "cell_type": "code",
   "execution_count": null,
   "metadata": {},
   "outputs": [],
   "source": [
    "optimize_jpgs(r'E:\\MyPhotos\\ForArchive\\HEIC Files\\output-jpegs', r'E:\\MyPhotos\\ForArchive\\HEIC Files\\optimized-jpegs')"
   ]
  },
  {
   "cell_type": "markdown",
   "metadata": {},
   "source": [
    "\n",
    "\n",
    "This will optimize all JPEG images in the 'output-jpegs' directory and save the optimized images in the 'optimized-jpegs' directory.\n"
   ]
  },
  {
   "cell_type": "markdown",
   "metadata": {},
   "source": [
    "____"
   ]
  },
  {
   "cell_type": "markdown",
   "metadata": {},
   "source": [
    "# HEIC to JPEG Image Converter\n",
    "\n",
    "This notebook contains a simple script to convert HEIC images to JPEG format. HEIC is a new image format used by Apple in iOS 11, which is more efficient in terms of storage than JPEG. However, it's not widely supported yet, so you might need to convert your HEIC photos to JPEG.\n",
    "\n",
    "## Required Libraries\n",
    "\n",
    "We will be using the `wand` library for image conversion, `os` for interacting with the operating system, and `glob` for file handling. Make sure you have these libraries installed. You can install them using pip:"
   ]
  },
  {
   "cell_type": "code",
   "execution_count": null,
   "metadata": {},
   "outputs": [],
   "source": [
    "!pip install Wand\n",
    "!pip install os \n",
    "!pip install glob\n",
    "\n",
    "import os\n",
    "import glob\n",
    "from wand.image import Image"
   ]
  },
  {
   "cell_type": "markdown",
   "metadata": {},
   "source": [
    "## Function: heic_to_jpg\n",
    "\n",
    "The `heic_to_jpg` function is used to convert an image from HEIC format to JPEG format. It takes two parameters:\n",
    "\n",
    "- `heic_path`: This is the path to the HEIC image file that you want to convert. It should be a string representing the file path, and the file should exist at this path.\n",
    "\n",
    "- `jpg_path`: This is the path where the converted JPEG image will be saved. It should be a string representing the file path, including the filename and the .jpg extension.\n",
    "\n",
    "The function works by opening the HEIC image file using the `Image` class from the `wand` library. It then changes the format of the image to 'jpeg' and saves the converted image at the specified JPEG path."
   ]
  },
  {
   "cell_type": "code",
   "execution_count": 1,
   "metadata": {},
   "outputs": [],
   "source": [
    "def heic_to_jpg(heic_path, jpg_path):\n",
    "    with Image(filename=heic_path) as img:\n",
    "        img.format = 'jpeg'\n",
    "        img.save(filename=jpg_path)"
   ]
  },
  {
   "cell_type": "code",
   "execution_count": null,
   "metadata": {},
   "outputs": [],
   "source": [
    "# Here's an example of how to use the function:\n",
    "heic_to_jpg('path/to/image.heic', 'path/to/converted_image.jpg')\n",
    "\n",
    "# heic_to_jpg(\"20210131_131414.heic\", \"output.jpg\")"
   ]
  },
  {
   "cell_type": "markdown",
   "metadata": {},
   "source": [
    "## Function: convert_all_heic_to_jpg\n",
    "\n",
    "The `convert_all_heic_to_jpg` function is used to convert all HEIC images in the current directory to JPEG format. It does not take any parameters.\n",
    "\n",
    "Here's how the function works:\n",
    "\n",
    "1. It first defines an output directory named \"output-jpegs\" where the converted JPEG images will be saved.\n",
    "\n",
    "2. It checks if this output directory exists. If it doesn't, it creates the directory using the `os.makedirs` function.\n",
    "\n",
    "3. It then gets a list of all HEIC files in the current directory using the `glob.glob` function.\n",
    "\n",
    "4. For each HEIC file in the list, it does the following:\n",
    "   - It constructs the path of the corresponding JPEG file by joining the output directory path with the base name of the HEIC file (without the .heic extension) and the .jpg extension. It uses the `os.path.join` and `os.path.splitext` functions for this.\n",
    "   - It then calls the `heic_to_jpg` function to convert the HEIC file to JPEG and save it at the constructed JPEG file path."
   ]
  },
  {
   "cell_type": "code",
   "execution_count": null,
   "metadata": {},
   "outputs": [],
   "source": [
    "# Here's an example of how to use the function:\n",
    "convert_all_heic_to_jpg()"
   ]
  },
  {
   "cell_type": "code",
   "execution_count": 2,
   "metadata": {},
   "outputs": [],
   "source": [
    "def convert_all_heic_to_jpg():\n",
    "    output_dir = \"output-jpegs\"\n",
    "    if not os.path.exists(output_dir):\n",
    "        os.makedirs(output_dir)\n",
    "\n",
    "    heic_files = glob.glob(\"*.heic\")\n",
    "\n",
    "    for heic_file in heic_files:\n",
    "        jpg_file = os.path.join(output_dir, os.path.splitext(heic_file)[0] + \".jpg\")\n",
    "        heic_to_jpg(heic_file, jpg_file)"
   ]
  },
  {
   "cell_type": "markdown",
   "metadata": {},
   "source": [
    "### Running the Conversion\n",
    "\n",
    "To run the conversion, simply call the `convert_all_heic_to_jpg` functinon."
   ]
  },
  {
   "cell_type": "code",
   "execution_count": null,
   "metadata": {},
   "outputs": [],
   "source": [
    "convert_all_heic_to_jpg()"
   ]
  },
  {
   "cell_type": "markdown",
   "metadata": {},
   "source": [
    "## Function: optimize_jpgs\n",
    "\n",
    "The `optimize_jpgs` function is used to optimize JPEG images in a given directory. It takes two parameters:\n",
    "\n",
    "- `input_directory`: This is the path to the directory that contains the JPEG images you want to optimize. It should be a string representing the directory path.\n",
    "\n",
    "- `output_directory`: This is the path to the directory where the optimized JPEG images will be saved. It should be a string representing the directory path.\n",
    "\n",
    "Here's how the function works:\n",
    "\n",
    "1. It first checks if the output directory exists. If it doesn't, it creates the directory using the `os.makedirs` function.\n",
    "\n",
    "2. It then iterates over all files in the input directory using the `os.listdir` function.\n",
    "\n",
    "3. For each file in the input directory, it checks if the file is a JPEG image by checking if the file name ends with \".jpg\" or \".jpeg\".\n",
    "\n",
    "4. If the file is a JPEG image, it does the following:\n",
    "   - It constructs the paths of the input and output files by joining the input and output directory paths with the file name using the `os.path.join` function.\n",
    "   - It then tries to open the input image using the `Image.open` function from the `PIL` library.\n",
    "   - If the image is successfully opened, it saves the image at the output file path with optimization and a quality of 50 using the `image.save` function. The `optimize=True` option enables optimization, and the `quality=50` option sets the quality of the saved image to 50 (on a scale of 1 to 95).\n",
    "   - If an `UnidentifiedImageError` is raised when trying to open the image, it prints a message and skips the file."
   ]
  },
  {
   "cell_type": "code",
   "execution_count": null,
   "metadata": {},
   "outputs": [],
   "source": [
    "# Here's an example of how to use the function:\n",
    "optimize_jpgs('path/to/input/directory', 'path/to/output/directory')"
   ]
  },
  {
   "cell_type": "code",
   "execution_count": 11,
   "metadata": {},
   "outputs": [],
   "source": [
    "from PIL import Image, UnidentifiedImageError\n",
    "import os\n",
    "\n",
    "def optimize_jpgs(input_directory, output_directory):\n",
    "    if not os.path.exists(output_directory):\n",
    "        os.makedirs(output_directory)\n",
    "\n",
    "    for filename in os.listdir(input_directory):\n",
    "        if filename.endswith(\".jpg\") or filename.endswith(\".jpeg\"):\n",
    "            input_filepath = os.path.join(input_directory, filename)\n",
    "            output_filepath = os.path.join(output_directory, filename)\n",
    "            try:\n",
    "                image = Image.open(input_filepath)\n",
    "                image.save(output_filepath, optimize=True, quality=50)\n",
    "            except UnidentifiedImageError:\n",
    "                print(f\"Skipped file due to UnidentifiedImageError: {input_filepath}\")"
   ]
  },
  {
   "cell_type": "code",
   "execution_count": 12,
   "metadata": {},
   "outputs": [
    {
     "name": "stdout",
     "output_type": "stream",
     "text": [
      "Skipped file due to UnidentifiedImageError: E:\\MyPhotos\\ForArchive\\HEIC Files\\output-jpegs\\20210217_133519.jpg\n"
     ]
    }
   ],
   "source": [
    "optimize_jpgs(r'E:\\MyPhotos\\ForArchive\\HEIC Files\\output-jpegs', r'E:\\MyPhotos\\ForArchive\\HEIC Files\\optimized-jpegs')"
   ]
  },
  {
   "cell_type": "code",
   "execution_count": null,
   "metadata": {
    "vscode": {
     "languageId": ""
    }
   },
   "outputs": [],
   "source": []
  }
 ],
 "metadata": {
  "kernelspec": {
   "display_name": "Python 3",
   "language": "python",
   "name": "python3"
  },
  "language_info": {
   "codemirror_mode": {
    "name": "ipython",
    "version": 3
   },
   "file_extension": ".py",
   "mimetype": "text/x-python",
   "name": "python",
   "nbconvert_exporter": "python",
   "pygments_lexer": "ipython3",
   "version": "3.11.3"
  }
 },
 "nbformat": 4,
 "nbformat_minor": 2
}
